{
 "cells": [
  {
   "cell_type": "markdown",
   "id": "389fce97-a244-47c8-9a72-7ba9c18e8c1b",
   "metadata": {},
   "source": [
    "# PyBank\n",
    "An assignment for Rutger's FinTech Boot Camp\n",
    "\n",
    "Given the `budget_data` CSV, we were told to extract various key financial metrics from the dataset."
   ]
  },
  {
   "cell_type": "markdown",
   "id": "50bc6e87-57db-4044-92ac-51db945b72b7",
   "metadata": {},
   "source": [
    "## Analysis\n",
    "We'll begin by importing the given budget data so we can perform the analysis."
   ]
  },
  {
   "cell_type": "code",
   "execution_count": 1,
   "id": "ccfcb31c-4b8a-4b53-a623-25d716001b29",
   "metadata": {
    "tags": []
   },
   "outputs": [
    {
     "data": {
      "text/html": [
       "<div>\n",
       "<style scoped>\n",
       "    .dataframe tbody tr th:only-of-type {\n",
       "        vertical-align: middle;\n",
       "    }\n",
       "\n",
       "    .dataframe tbody tr th {\n",
       "        vertical-align: top;\n",
       "    }\n",
       "\n",
       "    .dataframe thead th {\n",
       "        text-align: right;\n",
       "    }\n",
       "</style>\n",
       "<table border=\"1\" class=\"dataframe\">\n",
       "  <thead>\n",
       "    <tr style=\"text-align: right;\">\n",
       "      <th></th>\n",
       "      <th>Date</th>\n",
       "      <th>Profit/Losses</th>\n",
       "    </tr>\n",
       "  </thead>\n",
       "  <tbody>\n",
       "    <tr>\n",
       "      <th>0</th>\n",
       "      <td>Jan-2010</td>\n",
       "      <td>867884</td>\n",
       "    </tr>\n",
       "    <tr>\n",
       "      <th>1</th>\n",
       "      <td>Feb-2010</td>\n",
       "      <td>984655</td>\n",
       "    </tr>\n",
       "    <tr>\n",
       "      <th>2</th>\n",
       "      <td>Mar-2010</td>\n",
       "      <td>322013</td>\n",
       "    </tr>\n",
       "    <tr>\n",
       "      <th>3</th>\n",
       "      <td>Apr-2010</td>\n",
       "      <td>-69417</td>\n",
       "    </tr>\n",
       "    <tr>\n",
       "      <th>4</th>\n",
       "      <td>May-2010</td>\n",
       "      <td>310503</td>\n",
       "    </tr>\n",
       "    <tr>\n",
       "      <th>...</th>\n",
       "      <td>...</td>\n",
       "      <td>...</td>\n",
       "    </tr>\n",
       "    <tr>\n",
       "      <th>81</th>\n",
       "      <td>Oct-2016</td>\n",
       "      <td>102685</td>\n",
       "    </tr>\n",
       "    <tr>\n",
       "      <th>82</th>\n",
       "      <td>Nov-2016</td>\n",
       "      <td>795914</td>\n",
       "    </tr>\n",
       "    <tr>\n",
       "      <th>83</th>\n",
       "      <td>Dec-2016</td>\n",
       "      <td>60988</td>\n",
       "    </tr>\n",
       "    <tr>\n",
       "      <th>84</th>\n",
       "      <td>Jan-2017</td>\n",
       "      <td>138230</td>\n",
       "    </tr>\n",
       "    <tr>\n",
       "      <th>85</th>\n",
       "      <td>Feb-2017</td>\n",
       "      <td>671099</td>\n",
       "    </tr>\n",
       "  </tbody>\n",
       "</table>\n",
       "<p>86 rows × 2 columns</p>\n",
       "</div>"
      ],
      "text/plain": [
       "        Date  Profit/Losses\n",
       "0   Jan-2010         867884\n",
       "1   Feb-2010         984655\n",
       "2   Mar-2010         322013\n",
       "3   Apr-2010         -69417\n",
       "4   May-2010         310503\n",
       "..       ...            ...\n",
       "81  Oct-2016         102685\n",
       "82  Nov-2016         795914\n",
       "83  Dec-2016          60988\n",
       "84  Jan-2017         138230\n",
       "85  Feb-2017         671099\n",
       "\n",
       "[86 rows x 2 columns]"
      ]
     },
     "execution_count": 1,
     "metadata": {},
     "output_type": "execute_result"
    }
   ],
   "source": [
    "import pandas as pd\n",
    "\n",
    "budget_data_frame = pd.read_csv(r'C:\\Users\\ppate\\budget_data.csv')\n",
    "budget_data_frame"
   ]
  },
  {
   "cell_type": "markdown",
   "id": "7adf3cde-507f-4e7f-87f9-0515767a720f",
   "metadata": {},
   "source": [
    "### Total Months\n",
    "Initally, we want to calculate the total number of months in the dataset. To do this, we can use the `len()` function, as it measures \n",
    "the rows of any `DataFrame` object."
   ]
  },
  {
   "cell_type": "code",
   "execution_count": 2,
   "id": "56365b92-e8b7-4e02-ad78-643fb229755f",
   "metadata": {
    "tags": []
   },
   "outputs": [
    {
     "data": {
      "text/plain": [
       "86"
      ]
     },
     "execution_count": 2,
     "metadata": {},
     "output_type": "execute_result"
    }
   ],
   "source": [
    "total_number_of_months = len(budget_data_frame)\n",
    "total_number_of_months"
   ]
  },
  {
   "cell_type": "markdown",
   "id": "d6be7c52-037d-497f-84a7-375127f094a5",
   "metadata": {},
   "source": [
    "### Total Profit/Losses"
   ]
  },
  {
   "cell_type": "code",
   "execution_count": 3,
   "id": "216046aa-6b62-473e-8fb6-17d9557ca19f",
   "metadata": {
    "tags": []
   },
   "outputs": [
    {
     "data": {
      "text/plain": [
       "38382578"
      ]
     },
     "execution_count": 3,
     "metadata": {},
     "output_type": "execute_result"
    }
   ],
   "source": [
    "total_profit_loss = 0\n",
    "\n",
    "for monthly_profit in budget_data_frame[\"Profit/Losses\"]:\n",
    "    total_profit_loss += monthly_profit\n",
    "    \n",
    "total_profit_loss"
   ]
  },
  {
   "cell_type": "markdown",
   "id": "ed62008a-266f-4174-8b8c-0e029f5f88b5",
   "metadata": {},
   "source": [
    "### Average Change in Profit/Losses\n",
    "To calculate the average change in Profit/Losses, one must look at the difference between a given month and the previous, for each instance of two months. For example, in the dataset (`budget_data_frame`):"
   ]
  },
  {
   "cell_type": "code",
   "execution_count": 4,
   "id": "d59b2615-b4e2-4465-a61a-251874b14f85",
   "metadata": {
    "tags": []
   },
   "outputs": [
    {
     "data": {
      "text/html": [
       "<div>\n",
       "<style scoped>\n",
       "    .dataframe tbody tr th:only-of-type {\n",
       "        vertical-align: middle;\n",
       "    }\n",
       "\n",
       "    .dataframe tbody tr th {\n",
       "        vertical-align: top;\n",
       "    }\n",
       "\n",
       "    .dataframe thead th {\n",
       "        text-align: right;\n",
       "    }\n",
       "</style>\n",
       "<table border=\"1\" class=\"dataframe\">\n",
       "  <thead>\n",
       "    <tr style=\"text-align: right;\">\n",
       "      <th></th>\n",
       "      <th>Date</th>\n",
       "      <th>Profit/Losses</th>\n",
       "    </tr>\n",
       "  </thead>\n",
       "  <tbody>\n",
       "    <tr>\n",
       "      <th>0</th>\n",
       "      <td>Jan-2010</td>\n",
       "      <td>867884</td>\n",
       "    </tr>\n",
       "    <tr>\n",
       "      <th>1</th>\n",
       "      <td>Feb-2010</td>\n",
       "      <td>984655</td>\n",
       "    </tr>\n",
       "    <tr>\n",
       "      <th>2</th>\n",
       "      <td>Mar-2010</td>\n",
       "      <td>322013</td>\n",
       "    </tr>\n",
       "    <tr>\n",
       "      <th>3</th>\n",
       "      <td>Apr-2010</td>\n",
       "      <td>-69417</td>\n",
       "    </tr>\n",
       "    <tr>\n",
       "      <th>4</th>\n",
       "      <td>May-2010</td>\n",
       "      <td>310503</td>\n",
       "    </tr>\n",
       "    <tr>\n",
       "      <th>...</th>\n",
       "      <td>...</td>\n",
       "      <td>...</td>\n",
       "    </tr>\n",
       "    <tr>\n",
       "      <th>81</th>\n",
       "      <td>Oct-2016</td>\n",
       "      <td>102685</td>\n",
       "    </tr>\n",
       "    <tr>\n",
       "      <th>82</th>\n",
       "      <td>Nov-2016</td>\n",
       "      <td>795914</td>\n",
       "    </tr>\n",
       "    <tr>\n",
       "      <th>83</th>\n",
       "      <td>Dec-2016</td>\n",
       "      <td>60988</td>\n",
       "    </tr>\n",
       "    <tr>\n",
       "      <th>84</th>\n",
       "      <td>Jan-2017</td>\n",
       "      <td>138230</td>\n",
       "    </tr>\n",
       "    <tr>\n",
       "      <th>85</th>\n",
       "      <td>Feb-2017</td>\n",
       "      <td>671099</td>\n",
       "    </tr>\n",
       "  </tbody>\n",
       "</table>\n",
       "<p>86 rows × 2 columns</p>\n",
       "</div>"
      ],
      "text/plain": [
       "        Date  Profit/Losses\n",
       "0   Jan-2010         867884\n",
       "1   Feb-2010         984655\n",
       "2   Mar-2010         322013\n",
       "3   Apr-2010         -69417\n",
       "4   May-2010         310503\n",
       "..       ...            ...\n",
       "81  Oct-2016         102685\n",
       "82  Nov-2016         795914\n",
       "83  Dec-2016          60988\n",
       "84  Jan-2017         138230\n",
       "85  Feb-2017         671099\n",
       "\n",
       "[86 rows x 2 columns]"
      ]
     },
     "execution_count": 4,
     "metadata": {},
     "output_type": "execute_result"
    }
   ],
   "source": [
    "budget_data_frame"
   ]
  },
  {
   "cell_type": "markdown",
   "id": "a8fc3d10-5273-4eb6-ab30-55cac67a417f",
   "metadata": {},
   "source": [
    "TO compute the first two months"
   ]
  },
  {
   "cell_type": "code",
   "execution_count": 5,
   "id": "08163702-ed9a-4078-8e33-f4b0edaa8f4a",
   "metadata": {
    "tags": []
   },
   "outputs": [
    {
     "data": {
      "text/plain": [
       "-2315.12"
      ]
     },
     "execution_count": 5,
     "metadata": {},
     "output_type": "execute_result"
    }
   ],
   "source": [
    "average_profit_loss = 0\n",
    "\n",
    "profit_losses_data_frame = budget_data_frame[\"Profit/Losses\"]\n",
    "\n",
    "numeric_profit_losses_data_frame = pd.to_numeric(profit_losses_data_frame)\n",
    "\n",
    "average_change_data_frame = numeric_profit_losses_data_frame - numeric_profit_losses_data_frame.shift(1)\n",
    "\n",
    "average_profit_loss_unrounded = average_change_data_frame.mean()\n",
    "average_profit_loss = average_profit_loss_unrounded.round(2)\n",
    "\n",
    "average_profit_loss"
   ]
  },
  {
   "cell_type": "markdown",
   "id": "ee9db467-81cb-4df0-86f9-f87d16a963ac",
   "metadata": {},
   "source": [
    "## Greatest Increase in Profits\n",
    "\n"
   ]
  },
  {
   "cell_type": "code",
   "execution_count": 12,
   "id": "f2127b9a-f863-46dd-9c8e-c56ad16906e2",
   "metadata": {
    "tags": []
   },
   "outputs": [],
   "source": [
    "greatest_increase = average_change_data_frame.max()\n",
    "val_increase = budget_data_frame.iloc[average_change_data_frame.idxmax()][\"Date\"]"
   ]
  },
  {
   "cell_type": "markdown",
   "id": "8bee38a2-91aa-45e0-bd99-95147d21a902",
   "metadata": {},
   "source": [
    "### Greatest Decrease in Profits"
   ]
  },
  {
   "cell_type": "code",
   "execution_count": 11,
   "id": "59fecece-3015-4406-9fa1-5b0dd6925f7b",
   "metadata": {
    "tags": []
   },
   "outputs": [],
   "source": [
    "greatest_decrease = average_change_data_frame.min()\n",
    "\n",
    "budget_data_frame.iloc[average_change_data_frame.idxmin()]\n",
    "\n",
    "val_decrease = budget_data_frame.iloc[average_change_data_frame.idxmin()][\"Date\"]"
   ]
  },
  {
   "cell_type": "code",
   "execution_count": 16,
   "id": "cc05dfca-6f17-4a35-ba16-51827523f439",
   "metadata": {
    "tags": []
   },
   "outputs": [],
   "source": [
    "with open (\"analysis.txt\", \"w\") as f:\n",
    "    f.write(\"Financial Analysis\\n\")\n",
    "    f.write(\"----------------------------\\n\")\n",
    "    f.write(f\"Total Months: {total_number_of_months}\\n\")\n",
    "    f.write(f\"Total: ${total_profit_loss}\\n\")\n",
    "    f.write(f\"Average  Change: ${average_profit_loss}\\n\")\n",
    "    f.write(f\"Greatest Increase in Profits: {val_increase} (${round(greatest_increase)})\\n\")\n",
    "    f.write(f\"Greatest Decrease in Profits: {val_decrease} (${round(greatest_decrease)})\\n\")\n",
    "    f.write(f\"ass\")"
   ]
  },
  {
   "cell_type": "code",
   "execution_count": null,
   "id": "3b03f0a8-8416-4ec0-847d-112585228f93",
   "metadata": {},
   "outputs": [],
   "source": []
  }
 ],
 "metadata": {
  "kernelspec": {
   "display_name": "Python 3 (ipykernel)",
   "language": "python",
   "name": "python3"
  },
  "language_info": {
   "codemirror_mode": {
    "name": "ipython",
    "version": 3
   },
   "file_extension": ".py",
   "mimetype": "text/x-python",
   "name": "python",
   "nbconvert_exporter": "python",
   "pygments_lexer": "ipython3",
   "version": "3.11.4"
  }
 },
 "nbformat": 4,
 "nbformat_minor": 5
}
