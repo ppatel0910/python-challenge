{
 "cells": [
  {
   "cell_type": "code",
   "execution_count": 1,
   "id": "5d7fbddf-08e6-401c-90eb-cb9807f933ad",
   "metadata": {
    "tags": []
   },
   "outputs": [
    {
     "name": "stdout",
     "output_type": "stream",
     "text": [
      "22\n",
      "10\n",
      "30\n",
      "45\n",
      "54\n",
      "60\n",
      "56\n",
      "---------Summary Statistics----------\n",
      "Number of Days: 7\n",
      "Total Tips: 277\n",
      "Daily Average: 39.57\n",
      "Least Amount of Tips: 10\n",
      "Maximum Amount of Tips: 60\n"
     ]
    }
   ],
   "source": [
    "# Initialize the metric variables\n",
    "count = 0\n",
    "total = 0\n",
    "average = 0\n",
    "minimum = 0\n",
    "maximum = 0\n",
    "\n",
    "# List of daily tips\n",
    "cash_tips = [22, 10, 30, 45, 54, 60, 56]\n",
    "\n",
    "# Showcase every tip in the list\n",
    "for tip in cash_tips:\n",
    "    print(tip)\n",
    "\n",
    "# Iterate over each element of the list to determine metrics\n",
    "for tip in cash_tips:\n",
    "\n",
    "    # Cumulatively sum up the total and count of tips\n",
    "    total += tip\n",
    "    count += 1\n",
    "\n",
    "    # Logic to determine minimum values\n",
    "    if minimum == 0:\n",
    "        minimum = tip\n",
    "    elif tip < minimum:\n",
    "        minimum = tip\n",
    "        \n",
    "    # Logic to determine maximum values        \n",
    "    if tip > maximum:\n",
    "        maximum = tip\n",
    "\n",
    "# Calculate the average\n",
    "average = round(total / count, 2)\n",
    "\n",
    "# Print out the summary statistics\n",
    "print(\"---------Summary Statistics----------\")\n",
    "print(f\"Number of Days: {count}\")\n",
    "print(f\"Total Tips: {total}\")\n",
    "print(f\"Daily Average: {average}\")\n",
    "print(f\"Least Amount of Tips: {minimum}\")\n",
    "print(f\"Maximum Amount of Tips: {maximum}\")"
   ]
  },
  {
   "cell_type": "code",
   "execution_count": null,
   "id": "0dee1a61-ab3d-4ec6-a867-2ae8d2d47fc9",
   "metadata": {},
   "outputs": [],
   "source": []
  }
 ],
 "metadata": {
  "kernelspec": {
   "display_name": "Python 3 (ipykernel)",
   "language": "python",
   "name": "python3"
  },
  "language_info": {
   "codemirror_mode": {
    "name": "ipython",
    "version": 3
   },
   "file_extension": ".py",
   "mimetype": "text/x-python",
   "name": "python",
   "nbconvert_exporter": "python",
   "pygments_lexer": "ipython3",
   "version": "3.11.4"
  }
 },
 "nbformat": 4,
 "nbformat_minor": 5
}
