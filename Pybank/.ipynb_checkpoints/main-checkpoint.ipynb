{
 "cells": [
  {
   "cell_type": "markdown",
   "id": "ecbdc6da-5e87-41c2-a04a-b89b80b0da1a",
   "metadata": {},
   "source": [
    "## Analysis"
   ]
  },
  {
   "cell_type": "markdown",
   "id": "3be1870d-dd91-425c-9285-3144fa6632d7",
   "metadata": {},
   "source": [
    "### Open the File"
   ]
  },
  {
   "cell_type": "code",
   "execution_count": 90,
   "id": "48e89ec4-ebb1-460a-aaab-40406a91f6ab",
   "metadata": {
    "tags": []
   },
   "outputs": [
    {
     "ename": "TypeError",
     "evalue": "unsupported operand type(s) for +=: 'int' and 'tuple'",
     "output_type": "error",
     "traceback": [
      "\u001b[1;31m---------------------------------------------------------------------------\u001b[0m",
      "\u001b[1;31mTypeError\u001b[0m                                 Traceback (most recent call last)",
      "Cell \u001b[1;32mIn[90], line 32\u001b[0m\n\u001b[0;32m     27\u001b[0m \u001b[38;5;66;03m# Each line contains both the date and the total\u001b[39;00m\n\u001b[0;32m     28\u001b[0m \u001b[38;5;66;03m# profit/loss for the given month, delimeted by a \u001b[39;00m\n\u001b[0;32m     29\u001b[0m \u001b[38;5;66;03m# comma\u001b[39;00m\n\u001b[0;32m     30\u001b[0m date, month_profit_loss \u001b[38;5;241m=\u001b[39m split_line(line)\n\u001b[1;32m---> 32\u001b[0m total_profit_loss \u001b[38;5;241m+\u001b[39m\u001b[38;5;241m=\u001b[39m month_profit_loss\n\u001b[0;32m     34\u001b[0m \u001b[38;5;66;03m# for calcing the avg profit loss, we need to track\u001b[39;00m\n\u001b[0;32m     35\u001b[0m \u001b[38;5;66;03m# both the existing, and the prev, profit loss \u001b[39;00m\n\u001b[0;32m     36\u001b[0m \u001b[38;5;66;03m# seperately\u001b[39;00m\n\u001b[0;32m     37\u001b[0m prev_profit_loss \u001b[38;5;241m=\u001b[39m index \u001b[38;5;241m-\u001b[39m \u001b[38;5;241m1\u001b[39m\n",
      "\u001b[1;31mTypeError\u001b[0m: unsupported operand type(s) for +=: 'int' and 'tuple'"
     ]
    }
   ],
   "source": [
    "# We're pre-defining the variables here so that we can print them\n",
    "# later, as the submission has us using a Python Notebook as opposted\n",
    "# to a script\n",
    "\n",
    "number_of_rows = 86\n",
    "\n",
    "total_months = 0\n",
    "\n",
    "total_profit_loss = 0\n",
    "\n",
    "curr_profit_loss = 0\n",
    "prev_profit_loss = 0\n",
    "average_profit_loss = 0\n",
    "\n",
    "def split_line (line):\n",
    "    date, val = line.split(\",\")\n",
    "    \n",
    "    val = date, int(val)\n",
    "    \n",
    "    return date, val\n",
    "\n",
    "with open (\"budget_data.csv\", \"r\") as budget_data:\n",
    "    for index, line in enumerate(budget_data):\n",
    "        if index != 0:\n",
    "            total_months += 1\n",
    "            \n",
    "            # Each line contains both the date and the total\n",
    "            # profit/loss for the given month, delimeted by a \n",
    "            # comma\n",
    "            date, month_profit_loss = split_line(line)\n",
    "                \n",
    "            total_profit_loss += month_profit_loss\n",
    "            \n",
    "            # for calcing the avg profit loss, we need to track\n",
    "            # both the existing, and the prev, profit loss \n",
    "            # seperately\n",
    "            prev_profit_loss = index - 1\n",
    "            curr_profit_loss = month_profit_loss\n",
    "                \n",
    "# To submit to the formatting as requested by the syllabus\n",
    "print(\"Financial Analysis\")\n",
    "print(\"----------------------------\")\n",
    "\n",
    "# The real stuff\n",
    "print(f\"Total Months: {total_months}\")\n",
    "print(f\"Total: ${total_profit_loss}\")\n",
    "print(average_profit_loss)"
   ]
  },
  {
   "cell_type": "markdown",
   "id": "b5ee7754-ecf5-42ff-ad97-273d87f6ba7a",
   "metadata": {},
   "source": [
    "``### Total Months"
   ]
  },
  {
   "cell_type": "markdown",
   "id": "54d67e22-4825-4853-8045-812572de2a03",
   "metadata": {},
   "source": [
    "### Net Amount of Profit/Losses"
   ]
  },
  {
   "cell_type": "markdown",
   "id": "8469dca0-9b5d-49bb-b500-360d0a521bd2",
   "metadata": {},
   "source": [
    "### Average Change in Profit/Losses"
   ]
  },
  {
   "cell_type": "markdown",
   "id": "373606dd-452a-42ad-bdfb-21319ea38641",
   "metadata": {},
   "source": [
    "### Greatest Increase in Profits"
   ]
  },
  {
   "cell_type": "markdown",
   "id": "33df4dfd-0316-4c0a-9455-47d1643a37f2",
   "metadata": {},
   "source": [
    "### Greatest Decrease in Profits"
   ]
  }
 ],
 "metadata": {
  "kernelspec": {
   "display_name": "Python 3 (ipykernel)",
   "language": "python",
   "name": "python3"
  },
  "language_info": {
   "codemirror_mode": {
    "name": "ipython",
    "version": 3
   },
   "file_extension": ".py",
   "mimetype": "text/x-python",
   "name": "python",
   "nbconvert_exporter": "python",
   "pygments_lexer": "ipython3",
   "version": "3.11.4"
  }
 },
 "nbformat": 4,
 "nbformat_minor": 5
}
